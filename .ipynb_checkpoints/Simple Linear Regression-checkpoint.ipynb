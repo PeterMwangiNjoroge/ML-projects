{
 "cells": [
  {
   "cell_type": "markdown",
   "id": "cc4e0448-141b-45e1-b0e9-eb51ac67041b",
   "metadata": {
    "tags": []
   },
   "source": [
    "## SIMPLE LINEAR REGRESSION\n",
    "In simple linear regression, we predict the output/dependent variable based on only one input feature.\n",
    "\n",
    "The simple linear regression is given by $Y = mX + b$\n",
    "\n",
    "Where,\n",
    "\n",
    "$Y$ = output\n",
    "\n",
    "$X$ = input feature on which output is based\n",
    "\n",
    "$m$ = coefficient of input features\n",
    "\n",
    "$b$ = constant or y - intercept of line"
   ]
  },
  {
   "cell_type": "markdown",
   "id": "5e53304d-9712-46cf-8584-4b8585c88a31",
   "metadata": {},
   "source": [
    "### Import the python libraries we are going to use"
   ]
  },
  {
   "cell_type": "code",
   "execution_count": 1,
   "id": "b29eecc5-e865-42ff-bf33-d772bf1e7898",
   "metadata": {},
   "outputs": [],
   "source": [
    "import matplotlib.pyplot as plt\n",
    "import numpy as np\n",
    "import pandas as pd\n",
    "from sklearn import linear_model\n",
    "from sklearn.metrics import r2_score"
   ]
  },
  {
   "cell_type": "markdown",
   "id": "38ae3b25-8ef6-4948-8ece-eb2f3253b0c9",
   "metadata": {},
   "source": [
    "### Read the dataset.\n",
    "In this project we are going to use vehicle model data set which contains data about various car models and their carbon emmisions."
   ]
  },
  {
   "cell_type": "code",
   "execution_count": 2,
   "id": "e3b94bcf-e99b-4e4d-8148-3f845bd5ad40",
   "metadata": {},
   "outputs": [
    {
     "data": {
      "text/html": [
       "<div>\n",
       "<style scoped>\n",
       "    .dataframe tbody tr th:only-of-type {\n",
       "        vertical-align: middle;\n",
       "    }\n",
       "\n",
       "    .dataframe tbody tr th {\n",
       "        vertical-align: top;\n",
       "    }\n",
       "\n",
       "    .dataframe thead th {\n",
       "        text-align: right;\n",
       "    }\n",
       "</style>\n",
       "<table border=\"1\" class=\"dataframe\">\n",
       "  <thead>\n",
       "    <tr style=\"text-align: right;\">\n",
       "      <th></th>\n",
       "      <th>MODELYEAR</th>\n",
       "      <th>MAKE</th>\n",
       "      <th>MODEL</th>\n",
       "      <th>VEHICLECLASS</th>\n",
       "      <th>ENGINESIZE</th>\n",
       "      <th>CYLINDERS</th>\n",
       "      <th>TRANSMISSION</th>\n",
       "      <th>FUELTYPE</th>\n",
       "      <th>FUELCONSUMPTION_CITY</th>\n",
       "      <th>FUELCONSUMPTION_HWY</th>\n",
       "      <th>FUELCONSUMPTION_COMB</th>\n",
       "      <th>FUELCONSUMPTION_COMB_MPG</th>\n",
       "      <th>CO2EMISSIONS</th>\n",
       "    </tr>\n",
       "  </thead>\n",
       "  <tbody>\n",
       "    <tr>\n",
       "      <th>0</th>\n",
       "      <td>2014</td>\n",
       "      <td>ACURA</td>\n",
       "      <td>ILX</td>\n",
       "      <td>COMPACT</td>\n",
       "      <td>2.0</td>\n",
       "      <td>4</td>\n",
       "      <td>AS5</td>\n",
       "      <td>Z</td>\n",
       "      <td>9.9</td>\n",
       "      <td>6.7</td>\n",
       "      <td>8.5</td>\n",
       "      <td>33</td>\n",
       "      <td>196</td>\n",
       "    </tr>\n",
       "    <tr>\n",
       "      <th>1</th>\n",
       "      <td>2014</td>\n",
       "      <td>ACURA</td>\n",
       "      <td>ILX</td>\n",
       "      <td>COMPACT</td>\n",
       "      <td>2.4</td>\n",
       "      <td>4</td>\n",
       "      <td>M6</td>\n",
       "      <td>Z</td>\n",
       "      <td>11.2</td>\n",
       "      <td>7.7</td>\n",
       "      <td>9.6</td>\n",
       "      <td>29</td>\n",
       "      <td>221</td>\n",
       "    </tr>\n",
       "    <tr>\n",
       "      <th>2</th>\n",
       "      <td>2014</td>\n",
       "      <td>ACURA</td>\n",
       "      <td>ILX HYBRID</td>\n",
       "      <td>COMPACT</td>\n",
       "      <td>1.5</td>\n",
       "      <td>4</td>\n",
       "      <td>AV7</td>\n",
       "      <td>Z</td>\n",
       "      <td>6.0</td>\n",
       "      <td>5.8</td>\n",
       "      <td>5.9</td>\n",
       "      <td>48</td>\n",
       "      <td>136</td>\n",
       "    </tr>\n",
       "    <tr>\n",
       "      <th>3</th>\n",
       "      <td>2014</td>\n",
       "      <td>ACURA</td>\n",
       "      <td>MDX 4WD</td>\n",
       "      <td>SUV - SMALL</td>\n",
       "      <td>3.5</td>\n",
       "      <td>6</td>\n",
       "      <td>AS6</td>\n",
       "      <td>Z</td>\n",
       "      <td>12.7</td>\n",
       "      <td>9.1</td>\n",
       "      <td>11.1</td>\n",
       "      <td>25</td>\n",
       "      <td>255</td>\n",
       "    </tr>\n",
       "    <tr>\n",
       "      <th>4</th>\n",
       "      <td>2014</td>\n",
       "      <td>ACURA</td>\n",
       "      <td>RDX AWD</td>\n",
       "      <td>SUV - SMALL</td>\n",
       "      <td>3.5</td>\n",
       "      <td>6</td>\n",
       "      <td>AS6</td>\n",
       "      <td>Z</td>\n",
       "      <td>12.1</td>\n",
       "      <td>8.7</td>\n",
       "      <td>10.6</td>\n",
       "      <td>27</td>\n",
       "      <td>244</td>\n",
       "    </tr>\n",
       "  </tbody>\n",
       "</table>\n",
       "</div>"
      ],
      "text/plain": [
       "   MODELYEAR   MAKE       MODEL VEHICLECLASS  ENGINESIZE  CYLINDERS  \\\n",
       "0       2014  ACURA         ILX      COMPACT         2.0          4   \n",
       "1       2014  ACURA         ILX      COMPACT         2.4          4   \n",
       "2       2014  ACURA  ILX HYBRID      COMPACT         1.5          4   \n",
       "3       2014  ACURA     MDX 4WD  SUV - SMALL         3.5          6   \n",
       "4       2014  ACURA     RDX AWD  SUV - SMALL         3.5          6   \n",
       "\n",
       "  TRANSMISSION FUELTYPE  FUELCONSUMPTION_CITY  FUELCONSUMPTION_HWY  \\\n",
       "0          AS5        Z                   9.9                  6.7   \n",
       "1           M6        Z                  11.2                  7.7   \n",
       "2          AV7        Z                   6.0                  5.8   \n",
       "3          AS6        Z                  12.7                  9.1   \n",
       "4          AS6        Z                  12.1                  8.7   \n",
       "\n",
       "   FUELCONSUMPTION_COMB  FUELCONSUMPTION_COMB_MPG  CO2EMISSIONS  \n",
       "0                   8.5                        33           196  \n",
       "1                   9.6                        29           221  \n",
       "2                   5.9                        48           136  \n",
       "3                  11.1                        25           255  \n",
       "4                  10.6                        27           244  "
      ]
     },
     "execution_count": 2,
     "metadata": {},
     "output_type": "execute_result"
    }
   ],
   "source": [
    "data = pd.read_csv(\"Datasets/FuelConsumptionCo2.csv\")\n",
    "data.head()"
   ]
  },
  {
   "cell_type": "markdown",
   "id": "193a9fdb-bc69-4c80-b56f-f7a19791037c",
   "metadata": {},
   "source": [
    "### Select the features we are going to use\n",
    "The goal of this project will be to predict the value of `co2 emmissions` from the value of `engine size` in our dataset."
   ]
  },
  {
   "cell_type": "code",
   "execution_count": 3,
   "id": "37ef979f-1c18-4a2e-87be-b8cba3133c5b",
   "metadata": {},
   "outputs": [],
   "source": [
    "features = data[[\"ENGINESIZE\", \"CO2EMISSIONS\"]]"
   ]
  },
  {
   "cell_type": "markdown",
   "id": "dc1a6a2e-686c-467e-80fb-86bee75dd468",
   "metadata": {},
   "source": [
    "### Visualizing our features\n",
    "We will create a scatter plot to visualize the data points in our features.\n",
    "The plot will be on `ENGINESIZE` X, against `CO2EMISSIONS` Y"
   ]
  },
  {
   "cell_type": "code",
   "execution_count": 4,
   "id": "67837e37-1d38-4041-8009-c252b9019fd9",
   "metadata": {},
   "outputs": [
    {
     "data": {
      "image/png": "[encoded data removed]",
      "text/plain": [
       "<Figure size 432x288 with 1 Axes>"
      ]
     },
     "metadata": {
      "needs_background": "light"
     },
     "output_type": "display_data"
    }
   ],
   "source": [
    "plt.scatter(features[\"ENGINESIZE\"], features[\"CO2EMISSIONS\"], color=\"blue\")\n",
    "plt.xlabel(\"ENGINESIZE\")\n",
    "plt.ylabel(\"CO2EMMISSIONS\")\n",
    "plt.show()"
   ]
  },
  {
   "cell_type": "markdown",
   "id": "e5ff55bb-12f6-4c68-b305-12a36388b6a3",
   "metadata": {},
   "source": [
    "### Split our data\n",
    "We are going to split our dataset and use 80% to train our model and the remaining 20% to test it"
   ]
  },
  {
   "cell_type": "code",
   "execution_count": 5,
   "id": "915f9da0-23c9-44ce-a1f4-48fa8f1fec9c",
   "metadata": {},
   "outputs": [],
   "source": [
    "# We are using 80% data for training.\n",
    "train = data[:(int((len(data)*0.8)))]\n",
    "test = data[(int((len(data)*0.8))):]# Modeling:\n",
    "# Using sklearn package to model data :\n",
    "regr = linear_model.LinearRegression()\n",
    "train_x = np.array(train[[\"ENGINESIZE\"]])\n",
    "train_y = np.array(train[[\"CO2EMISSIONS\"]])"
   ]
  },
  {
   "cell_type": "markdown",
   "id": "59e55164-45c8-47f8-9651-b29e4c94a53f",
   "metadata": {},
   "source": [
    "### Training our model\n",
    "We are going to train our model and find coefficients for our best-fit regression line."
   ]
  },
  {
   "cell_type": "code",
   "execution_count": 6,
   "id": "a723bac1-733b-42f7-99f2-e3035b9fa82b",
   "metadata": {},
   "outputs": [
    {
     "name": "stdout",
     "output_type": "stream",
     "text": [
      "coefficients:  [[38.79512384]]\n",
      "Intercept:  [127.16989951]\n"
     ]
    }
   ],
   "source": [
    "regr = linear_model.LinearRegression()\n",
    "regr.fit(np.array(train_x), np.array(train_y))\n",
    "\n",
    "# print the coefficients\n",
    "print(\"coefficients: \", regr.coef_) # the slope\n",
    "print(\"Intercept: \", regr.intercept_) # Intercept"
   ]
  },
  {
   "cell_type": "markdown",
   "id": "5af8b7fe-4eec-4778-b786-3b95ba6c56be",
   "metadata": {},
   "source": [
    "### Plotting the best fit line\n",
    "Based on the coefficients, we can plot the best fit line for our dataset."
   ]
  },
  {
   "cell_type": "code",
   "execution_count": 7,
   "id": "70c7b6ac-773f-4f4e-b886-d14196cac351",
   "metadata": {},
   "outputs": [
    {
     "data": {
      "text/plain": [
       "Text(0, 0.5, 'Emission')"
      ]
     },
     "execution_count": 7,
     "metadata": {},
     "output_type": "execute_result"
    },
    {
     "data": {
      "image/png": "[encoded data removed]",
      "text/plain": [
       "<Figure size 432x288 with 1 Axes>"
      ]
     },
     "metadata": {
      "needs_background": "light"
     },
     "output_type": "display_data"
    }
   ],
   "source": [
    "plt.scatter(train[\"ENGINESIZE\"], train[\"CO2EMISSIONS\"], color='blue')\n",
    "plt.plot(train_x, regr.coef_*train_x +regr.intercept_, '-r')\n",
    "plt.xlabel(\"Engine size\")\n",
    "plt.ylabel(\"Emission\")"
   ]
  },
  {
   "cell_type": "markdown",
   "id": "222aa905-fd4f-4fda-98ed-c1eb1736c9c4",
   "metadata": {},
   "source": [
    "### Using our model to predict data.\n",
    "We are going to use a prediction function for our testing dataset."
   ]
  },
  {
   "cell_type": "code",
   "execution_count": 8,
   "id": "5415c3df-8d1c-4465-a66a-508753ea2e6d",
   "metadata": {},
   "outputs": [],
   "source": [
    "def get_predictions(input_features, intercept, slope):\n",
    "    predicted_value = input_features*slope + intercept\n",
    "    return predicted_value"
   ]
  },
  {
   "cell_type": "markdown",
   "id": "1b6210dc-ec57-4115-9a3c-1fa45f30ee18",
   "metadata": {},
   "source": [
    "to get an actual prediction, we are going to call the above function with the arguments."
   ]
  },
  {
   "cell_type": "code",
   "execution_count": 9,
   "id": "705dff75-d643-49ab-9846-7f5d261af184",
   "metadata": {},
   "outputs": [
    {
     "name": "stdout",
     "output_type": "stream",
     "text": [
      "The estimated emission for engine of size 3.5 is 262.9528329350172\n"
     ]
    }
   ],
   "source": [
    "engine_size = 3.5\n",
    "emission_predicted = get_predictions(engine_size, regr.intercept_[0], regr.coef_[0][0])\n",
    "print(\"The estimated emission for engine of size {} is {}\".format(engine_size, emission_predicted))"
   ]
  },
  {
   "cell_type": "markdown",
   "id": "bab17bc3-3ef1-4700-9025-4b64e6ab0fd2",
   "metadata": {},
   "source": [
    "### checking for accuracy\n",
    "We can check the accuracy of our model by comparing the actual values with the predicted values in our dataset."
   ]
  },
  {
   "cell_type": "code",
   "execution_count": 10,
   "id": "0387e971-753a-46a5-a40c-bce3ffbc4675",
   "metadata": {},
   "outputs": [
    {
     "name": "stdout",
     "output_type": "stream",
     "text": [
      "Mean absolute error: 20.60.\n",
      "Mean sum of squares (MSE): 746.45.\n",
      "R2-score: 0.71.\n"
     ]
    }
   ],
   "source": [
    "test_x = np.array(test[[\"ENGINESIZE\"]])\n",
    "test_y = np.array(test[[\"CO2EMISSIONS\"]])\n",
    "test_y_ = regr.predict(test_x)\n",
    "print(\"Mean absolute error: {:.2f}.\".format(np.mean(np.absolute(test_y_ - test_y))))\n",
    "print(\"Mean sum of squares (MSE): {:.2f}.\".format(np.mean((test_y_ - test_y) ** 2)))\n",
    "print(\"R2-score: {:.2f}.\".format(r2_score(test_y_, test_y)))"
   ]
  }
 ],
 "metadata": {
  "kernelspec": {
   "display_name": "Python 3 (ipykernel)",
   "language": "python",
   "name": "python3"
  },
  "language_info": {
   "codemirror_mode": {
    "name": "ipython",
    "version": 3
   },
   "file_extension": ".py",
   "mimetype": "text/x-python",
   "name": "python",
   "nbconvert_exporter": "python",
   "pygments_lexer": "ipython3",
   "version": "3.9.12"
  }
 },
 "nbformat": 4,
 "nbformat_minor": 5
}
