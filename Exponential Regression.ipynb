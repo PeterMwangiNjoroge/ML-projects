{
 "cells": [
  {
   "cell_type": "markdown",
   "id": "b0f497a1-a8c8-4748-b7cf-f5aadc874382",
   "metadata": {},
   "source": [
    "### Exponential regression\n",
    "some examples of exponential growth\n",
    "* Microorganisms in cultures\n",
    "* Spoilage of food\n",
    "* Human population\n",
    "* Compound interests\n",
    "* Pandemics such as covid\n",
    "* Invasive species\n",
    "* Fire\n",
    "* Cancer cells\n",
    "* Smartphone Uptake and sales\n",
    "The formula for exponential regression is as follows:\n",
    "\n",
    "$Y = a + b * c^X$\n",
    "\n",
    "Where\n",
    "\n",
    "$Y$ = output\n",
    "\n",
    "$X$ = input feature\n",
    "\n",
    "$a$ = shift value\n",
    "\n",
    "$b$ = y - intercept\n",
    "\n",
    "$c$ = base\n",
    "\n",
    "### Load the required libraries"
   ]
  },
  {
   "cell_type": "code",
   "execution_count": 1,
   "id": "fa8973f8-dc02-4407-aac2-d4232e50d234",
   "metadata": {},
   "outputs": [],
   "source": [
    "import numpy as np\n",
    "import matplotlib.pyplot as plt\n",
    "from scipy.optimize import curve_fit\n",
    "from sklearn.metrics import r2_score"
   ]
  },
  {
   "cell_type": "markdown",
   "id": "25bfb52d-b875-42ce-9c79-ca90455d464a",
   "metadata": {},
   "source": [
    "### Insert the data points"
   ]
  },
  {
   "cell_type": "code",
   "execution_count": 2,
   "id": "53b1b1aa-8abd-43ba-8e54-ec75e12bc20b",
   "metadata": {},
   "outputs": [],
   "source": [
    "day = np.arange(0, 8)\n",
    "weight = np.array([251, 209, 157, 129, 103, 81, 66, 49])"
   ]
  },
  {
   "cell_type": "markdown",
   "id": "a96b9f5b-bc0d-4b19-9db0-31a8ac2ae3a1",
   "metadata": {},
   "source": [
    "### Implement the exponential function algorithm"
   ]
  },
  {
   "cell_type": "code",
   "execution_count": 3,
   "id": "6cd8e9d3-6d57-4b99-befa-0ade2cf136bc",
   "metadata": {},
   "outputs": [],
   "source": [
    "def expo_func(x, a, b):\n",
    "    return a * b ** x"
   ]
  },
  {
   "cell_type": "markdown",
   "id": "e1b3a562-e5f5-462c-9998-d23c8291e665",
   "metadata": {},
   "source": [
    "### Apply optimal parameters and covariance\n",
    "\n",
    "Here we use curve_fit to find the optimal parameter values. It return two called <b>popt</b> and <b>pcov</b>\n",
    "\n",
    "<b>popt</b> stores the value of optimal parameters, and <b>pcov</b> stores the values of it's covaiances.\n",
    "\n",
    "<b>popt</b> has two values which are our optimal parameters."
   ]
  },
  {
   "cell_type": "code",
   "execution_count": 4,
   "id": "fbad3b5b-7aa6-4d35-8acc-2751db2b9dda",
   "metadata": {},
   "outputs": [
    {
     "name": "stdout",
     "output_type": "stream",
     "text": [
      "[254.0485724   0.7963651]\n",
      "[[ 8.94298129e+00 -8.06359265e-03]\n",
      " [-8.06359265e-03  1.66434385e-05]]\n"
     ]
    }
   ],
   "source": [
    "popt, pcov = curve_fit(expo_func, day, weight)\n",
    "weight_pred = expo_func(day, popt[0], popt[1])\n",
    "print(popt)\n",
    "print(pcov)"
   ]
  },
  {
   "cell_type": "markdown",
   "id": "0ca6f138-2d21-49cb-8a7c-2c648d5eb56b",
   "metadata": {},
   "source": [
    "### Plot the data\n",
    "Plot the data together with the coefficients calculated above."
   ]
  },
  {
   "cell_type": "code",
   "execution_count": 5,
   "id": "17234ecb-17aa-4a4b-9aa3-b2d8d7ca710b",
   "metadata": {},
   "outputs": [
    {
     "data": {
      "image/png": "[encoded data removed]",
      "text/plain": [
       "<Figure size 432x288 with 1 Axes>"
      ]
     },
     "metadata": {
      "needs_background": "light"
     },
     "output_type": "display_data"
    }
   ],
   "source": [
    "plt.plot(day, weight_pred, 'r-')\n",
    "plt.scatter(day, weight, label='Day vs Weight')\n",
    "plt.title(\"Day vs Weight a * b ^ x\")\n",
    "plt.xlabel('Day')\n",
    "plt.ylabel('Weight')\n",
    "plt.legend()\n",
    "plt.show()"
   ]
  },
  {
   "cell_type": "markdown",
   "id": "b4b9cfef-f5bb-4764-890d-ea15fa1425fe",
   "metadata": {},
   "source": [
    "### Check the accuracy of the model"
   ]
  },
  {
   "cell_type": "code",
   "execution_count": 6,
   "id": "e174bc23-7c51-466c-b652-a3fd989f8986",
   "metadata": {},
   "outputs": [
    {
     "data": {
      "text/plain": [
       "0.9977273046642591"
      ]
     },
     "execution_count": 6,
     "metadata": {},
     "output_type": "execute_result"
    }
   ],
   "source": [
    "r2_score(weight, weight_pred)"
   ]
  }
 ],
 "metadata": {
  "kernelspec": {
   "display_name": "Python 3 (ipykernel)",
   "language": "python",
   "name": "python3"
  },
  "language_info": {
   "codemirror_mode": {
    "name": "ipython",
    "version": 3
   },
   "file_extension": ".py",
   "mimetype": "text/x-python",
   "name": "python",
   "nbconvert_exporter": "python",
   "pygments_lexer": "ipython3",
   "version": "3.9.12"
  }
 },
 "nbformat": 4,
 "nbformat_minor": 5
}
